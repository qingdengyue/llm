{
 "cells": [
  {
   "cell_type": "code",
   "execution_count": null,
   "id": "5e32dd7d-bcdf-4fb5-92d2-08da07340f57",
   "metadata": {},
   "outputs": [
    {
     "name": "stderr",
     "output_type": "stream",
     "text": [
      "/root/miniconda3/lib/python3.8/site-packages/tqdm/auto.py:21: TqdmWarning: IProgress not found. Please update jupyter and ipywidgets. See https://ipywidgets.readthedocs.io/en/stable/user_install.html\n",
      "  from .autonotebook import tqdm as notebook_tqdm\n"
     ]
    },
    {
     "name": "stdout",
     "output_type": "stream",
     "text": [
      "yelo_review_full dataset loaded.\n",
      "bert-base-cased pretrained  loaded.\n",
      "dataset map function updated.\n",
      "dataset 1000 items\n"
     ]
    },
    {
     "name": "stderr",
     "output_type": "stream",
     "text": [
      "Some weights of BertForSequenceClassification were not initialized from the model checkpoint at bert-base-cased and are newly initialized: ['classifier.bias', 'classifier.weight']\n",
      "You should probably TRAIN this model on a down-stream task to be able to use it for predictions and inference.\n",
      "Detected kernel version 5.4.0, which is below the recommended minimum of 5.5.0; this can cause the process to hang. It is recommended to upgrade the kernel to the minimum version or higher.\n"
     ]
    },
    {
     "name": "stdout",
     "output_type": "stream",
     "text": [
      "training_args updated\n",
      "trainer updated\n",
      "start to train\n"
     ]
    },
    {
     "data": {
      "text/html": [
       "\n",
       "    <div>\n",
       "      \n",
       "      <progress value='677' max='121875' style='width:300px; height:20px; vertical-align: middle;'></progress>\n",
       "      [   677/121875 15:03 < 45:04:59, 0.75 it/s, Epoch 0.02/3]\n",
       "    </div>\n",
       "    <table border=\"1\" class=\"dataframe\">\n",
       "  <thead>\n",
       " <tr style=\"text-align: left;\">\n",
       "      <th>Epoch</th>\n",
       "      <th>Training Loss</th>\n",
       "      <th>Validation Loss</th>\n",
       "    </tr>\n",
       "  </thead>\n",
       "  <tbody>\n",
       "  </tbody>\n",
       "</table><p>"
      ],
      "text/plain": [
       "<IPython.core.display.HTML object>"
      ]
     },
     "metadata": {},
     "output_type": "display_data"
    }
   ],
   "source": [
    "from datasets import load_dataset\n",
    "import random\n",
    "import pandas as pd\n",
    "import datasets\n",
    "from IPython.display import display,HTML\n",
    "from transformers import AutoTokenizer,AutoModelForSequenceClassification,TrainingArguments,Trainer\n",
    "import numpy as np\n",
    "import evaluate\n",
    "\n",
    "dataset= load_dataset(\"yelp_review_full\")\n",
    "print(f'yelo_review_full dataset loaded.')\n",
    "\n",
    "tokenizer=AutoTokenizer.from_pretrained(\"bert-base-cased\")\n",
    "print(f'bert-base-cased pretrained  loaded.')\n",
    "\n",
    "metric=evaluate.load(\"accuracy\")\n",
    "def tokenize_function(examples):\n",
    "    return tokenizer(examples[\"text\"],padding=\"max_length\",truncation=True)\n",
    "    \n",
    "def compute_metrics(eval_pred):\n",
    "    logits,labels=eval_pred\n",
    "    predictions=np.argmax(logits,axis=-1)\n",
    "    return metric.compute(predictions=predictions,references=labels)\n",
    "\n",
    "tokenized_datasets=dataset.map(tokenize_function,batched=True)\n",
    "print(f'dataset map function updated.')\n",
    "\n",
    "small_train_dataset=tokenized_datasets[\"train\"].shuffle(seed=42)\n",
    "small_eval_dataset=tokenized_datasets[\"test\"].shuffle(seed=42)\n",
    "print(f'dataset 1000 items')\n",
    "\n",
    "model = AutoModelForSequenceClassification.from_pretrained(\"bert-base-cased\",num_labels=5)\n",
    "model_dir=\"./gen/models/bert-base-cased-finetune-yelp\"\n",
    "\n",
    "\n",
    "training_args=TrainingArguments(output_dir=model_dir,\n",
    "                               evaluation_strategy=\"epoch\",\n",
    "                               per_device_train_batch_size=16,\n",
    "                               num_train_epochs=3,\n",
    "                               logging_steps=30)\n",
    "print(f'training_args updated')\n",
    "\n",
    "trainer=Trainer(\n",
    "    model=model,\n",
    "    args=training_args,\n",
    "    train_dataset=small_train_dataset,\n",
    "    eval_dataset=small_eval_dataset,\n",
    "    compute_metrics=compute_metrics\n",
    ")\n",
    "print(f'trainer updated')\n",
    "\n",
    "print(f'start to train')\n",
    "trainer.train()\n",
    "print(f'Train Completed!')\n",
    "small_test_dataset=tokenized_datasets[\"test\"].shuffle(seed=64).select(range(100))\n",
    "print(trainer.evaluate(small_test_dataset))\n",
    "print(f'Evaluate Completed!')\n",
    "trainer.save_model(model_dir)\n",
    "print(f'Save model Completed!')\n",
    "trainer.save_state()\n",
    "print(f'Save state Completed!')"
   ]
  },
  {
   "cell_type": "code",
   "execution_count": null,
   "id": "c1560e69-6dc6-4823-8b3c-ae58801e5563",
   "metadata": {},
   "outputs": [],
   "source": []
  }
 ],
 "metadata": {
  "kernelspec": {
   "display_name": "Python 3 (ipykernel)",
   "language": "python",
   "name": "python3"
  },
  "language_info": {
   "codemirror_mode": {
    "name": "ipython",
    "version": 3
   },
   "file_extension": ".py",
   "mimetype": "text/x-python",
   "name": "python",
   "nbconvert_exporter": "python",
   "pygments_lexer": "ipython3",
   "version": "3.8.10"
  }
 },
 "nbformat": 4,
 "nbformat_minor": 5
}
